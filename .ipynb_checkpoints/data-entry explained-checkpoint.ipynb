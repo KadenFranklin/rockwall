{
 "cells": [
  {
   "cell_type": "markdown",
   "id": "49915401",
   "metadata": {},
   "source": [
    "# data-entry explained\n",
    "\n",
    "In this notebook I will explain the process(es) used to seed the database for the website I am created."
   ]
  },
  {
   "cell_type": "markdown",
   "id": "8a72edef",
   "metadata": {},
   "source": [
    "## Data Dictionary\n",
    "\n",
    "For simplicities sake I will split up the Data Dictionary into a few distingtuishable parts\n",
    "\n",
    "# unchanging data \n",
    "\n",
    "These are lists that we will not alter from this point on\n",
    "\n",
    "\n",
    "Hold-colors: ['Black', 'Brown', 'Blue', 'Green(dark)', 'Green(light)', 'Grey', 'Red', 'Marble', 'Purple', 'Pink', 'Orange', 'Yellow', 'White']\n",
    "\n",
    "Hold-type: ['Bulb', 'Crack', 'Flake', 'Foot', 'Crimp', 'Horn', 'Jug', 'Ledge', 'Pinch', 'Pocket', 'Sloper', 'Under-Cling'] \n",
    "\n",
    "Route-list: ['Cross-map-360-NoScope', 'Jump master', 'Hey Peter', 'Gaston', 'Turtle-soup', 'Traverse', 'Owl Route', 'Zebra Tape']\n",
    "\n",
    "Tape-colors: ['Black', 'Brown', 'Blue', 'Flames', 'Flowers', 'Green(dark)', 'Green(light)', 'Grey', 'Red', 'Marble', 'Peacock', 'Purple', 'Pink', 'Orange', 'Yellow', 'White', 'Wood']\n",
    "\n",
    "These lists will be particularly helpful in defining out holds"
   ]
  },
  {
   "cell_type": "markdown",
   "id": "ab50658d",
   "metadata": {},
   "source": [
    "# defining a 'section'\n",
    "\n",
    "A 'section' of the rock wall is a unit of 3'x 3' synthetic rock which that wall is composed of many units. When observing the rockwall, one may see that it is has 14 sections spread horizontally, and 8 sections spread vertically. For a total of 112 sections. Since there are many such elements called 'sections' we will not only have to define their location, but their phy\n",
    "\n",
    "|Feature | DataType | Description|\n",
    "|:--------|:----------|:------------|\n",
    "|X-loc | list | Array of the X coordinates of sections (0-13)|\n",
    "|      |      |      |\n",
    "|Y-loc | list | Array of the Y coordinates of sections (0-7)|\n",
    "|      |      |      |\n",
    "|X | int | The sections X coordinate, used to index the arrat X-loc|\n",
    "|      |      |      |\n",
    "|Y | int | The sections Y coordinate, used to index the arrat Y-loc|\n",
    "|      |      |      |\n",
    "|Section | dict : tuple(x)(y), Section-dict | A 3' x 3' 'section' of the wall, which is expressed as a dictionary of tuple and another dict, containing attributes of that section |\n",
    "|      |      |      |\n",
    "|Section-dict | dict: str, list | The dictionary associated with a particular section. Contains: Spot-list, Hold-list |\n",
    "|      |      |      |\n",
    "|Spot-list | list: int | A list of integers expressing the number of spots, located in associated section (can be anything from 9-15 spots, depend on physical spots.) |\n",
    "|      |      |      |\n",
    "|Spot | int | A numeric representation of a spots location in a section[X,y] {can be anything from 0 - (len(spot-list) - 1)}|\n",
    "|      |      |      |\n",
    "\n",
    "Section is itself is a dictionary, so that one may iterate over each section to see the component spots, and holds it contains. "
   ]
  },
  {
   "cell_type": "markdown",
   "id": "a453309a",
   "metadata": {},
   "source": [
    "# defining a 'hold'\n",
    "\n",
    "A hold can be described as a multiform plastic component screwed into a stationary 'spot' on the wall. The climber uses the 'hold' as positioning for hand/foot placement in order to ascend. We will define the many facets of data associated with a 'hold'. A hold can be one of many colors, be one of many forms or types, and be associated with zero, one, or many rock climbing routes. Along with this each hold has a unique position in physical space.\n",
    "\n",
    "|Feature | DataType | Description|\n",
    "|:--------|:----------|:------------|\n",
    "|H_x | int | Integer describing the x-axis of a hold's section |\n",
    "|      |      |     |\n",
    "|H_y| int | Integer describing the y-axis of a hold's section  |\n",
    "|      |      |     |\n",
    "|H_s | int | Integer describing a hold's spot (pos in a sections spot list)|\n",
    "|      |      |     |\n",
    "|H_c | int | Integer describing a hold's color (Index of Hold-color) |\n",
    "|      |      |     |\n",
    "|H_t | int | Integer describing what type a hold is (Index of Hold-type) |\n",
    "|      |      |     |\n",
    "|Hold | list: int | [H_x, H_y, H_s, H_c, H_t] |\n",
    "|      |      |     |\n",
    "|H_routes | list: str | List of the names of routes, which this hold is a part of.|\n",
    "|      |      |     |\n",
    "|Hold-list | list: lists | A list of lists, containing the variables associated with this particular hold. The first list, Hold contains everything needed to map the hold to a section. The second list, is H_routes, a list of routes associated with the hold.  |\n",
    "|      |      |      |\n",
    "\n",
    "\n"
   ]
  },
  {
   "cell_type": "markdown",
   "id": "22e5bcad",
   "metadata": {},
   "source": [
    "# defining a 'route'\n",
    "\n",
    "Thus with all of the given information we have few composite components left to define. A 'route' is a collection of holds and the associated spots they occupy in a predetermined patter which one would attempt to climb in said patter for a successful send. A route can (and usually does) occupy many sections, it can also has an equal number of spots and holds. It is usually verified in the physical world with the marking of tape on the wall. Each route can be either a boulder or top rope. A route will contain:  Name, Rating, Date, Author, route-tape-color, it will also contain a dictionary \n",
    "\n",
    "|Feature | DataType | Description|\n",
    "|:--------|:----------|:------------|\n",
    "|R-name | str    |  The name of the associated rock climbing route, an element of route-list   | \n",
    "|      |      |      |\n",
    "|R-date |  str  |  The date in which the route was set  | \n",
    "|      |      |      |\n",
    "|R-author |  str   |  The name of the route setter  | \n",
    "|      |      |      |\n",
    "|R-comments |  str   | Additional comments possibly helpful to completion of the route   | \n",
    "|      |      |      |\n",
    "|R-type |  boolean    |  Boulder/Tope-Rope   | \n",
    "|      |      |      |\n",
    "|R-rating |  str   |  The difficult of said route expressed on a 5.6- 5.14 scale (Top rope) or V0-V14 scale(Boulder) |\n",
    "|      |      |      |\n",
    "|R-tape |  str   |  The color of tape with the associated route, an element of tape-colors   |\n",
    "|      |      |      |\n",
    "|Route |   dict: tuple(x,y), list[Hold-list]  | A collection of holds in their associated spots along with other data. It will contain one of each of the variables mentioned above, along with a dictionary of tuples(x,y): list[Hold-list]|\n",
    "|      |      |      |\n",
    "|Wall |  list: Route | An annual collection of routes and their necessary sub-parts maintained by Hendrix College Climbing Coalition Historian|"
   ]
  },
  {
   "cell_type": "markdown",
   "id": "b2ba9430",
   "metadata": {},
   "source": [
    "# Final Data Dictionary\n",
    "\n",
    "|Feature | DataType | Description|\n",
    "|:--------|:----------|:------------|\n",
    "|X-loc | list | Array of the sections X coordinates.|\n",
    "|Y-loc | list | Array of the sections Y coordinates.|\n",
    "|X | int | The sections X coordinate, used to index the arrat X-loc|\n",
    "|Y | int | The sections Y coordinate, used to index the arrat Y-loc| \n",
    "|Spot | int | A numeric representation of a spots location in a section. |\n",
    "|H_x | int | Integer describing the x-axis of a hold's section |\n",
    "|H_y| int | Integer describing the y-axis of a hold's section  |\n",
    "|H_s | int | Integer describing a hold's spot (pos in a sections spot list)|\n",
    "|H_c | int | Integer describing a hold's color (Index of Hold-color) |\n",
    "|H_t | int | Integer describing what type a hold is (Index of Hold-type) |\n",
    "|H_routes | list: str | List of the names of routes, which this hold is a part of.|\n",
    "|Hold | list: int | [H_x, H_y, H_s, H_c, H_t] |\n",
    "|Hold-list | list: lists | A list of lists, containing the variables associated with this particular hold. The first list, Hold contains everything needed to map the hold to a section. The second list, is H_routes, a list of routes associated with the hold.  |\n",
    "|Spot-list | list: int | A list of integers expressing the number of spots, located in associated section |\n",
    "|Section-dict | dict: str, list | The dictionary associated with a particular section. Contains: Spot-list, Hold-list |\n",
    "|Section | dict : tuple(x)(y), Section-dict | A 3' x 3' 'section' of the wall, which is expressed as a dictionary of tuple and another dict, containing attributes of that section|\n",
    "|R-name | str    |  The name of the associated rock climbing route, an element of route-list   | \n",
    "|R-date |  str  |  The date in which the route was set  | \n",
    "|R-author |  str   |  The name of the route setter  | \n",
    "|R-comments |  str   | Additional comments possibly helpful to completion of the route   | \n",
    "|R-type |  boolean    |  Boulder/Tope-Rope   | \n",
    "|R-rating |  str   |  The difficult of said route expressed on a 5.6- 5.14 scale (Top rope) or V0-V14 scale(Boulder) |\n",
    "|R-tape |  str   |  The color of tape with the associated route, an element of tape-colors   |\n",
    "|Route |   tuples(x,y): list[Hold-list]  | A collection of holds in their associated spots along with other data. It will contain one of each of the variables mentioned above, along with a dictionary of tuples(x,y): list[Hold-list]|\n",
    "|Wall |  list: Route | An annual collection of routes and their necessary sub-parts maintained by Hendrix College Climbing Coalition Historian|\n",
    "\n",
    "\n"
   ]
  },
  {
   "cell_type": "markdown",
   "id": "560166b2",
   "metadata": {},
   "source": [
    "Now that we have defined our data, in an understandable manner in relation to that of the database existing in the rockwall website. We may create terms for seeding the database."
   ]
  },
  {
   "cell_type": "code",
   "execution_count": 2,
   "id": "aa9d5bda",
   "metadata": {},
   "outputs": [],
   "source": [
    "import pandas as pd\n",
    "import matplotlib.pyplot as plt\n",
    "%matplotlib inline\n",
    "pd.set_option('display.max_columns', None)"
   ]
  },
  {
   "cell_type": "code",
   "execution_count": 3,
   "id": "1c4bbb67",
   "metadata": {},
   "outputs": [
    {
     "data": {
      "text/html": [
       "<div>\n",
       "<style scoped>\n",
       "    .dataframe tbody tr th:only-of-type {\n",
       "        vertical-align: middle;\n",
       "    }\n",
       "\n",
       "    .dataframe tbody tr th {\n",
       "        vertical-align: top;\n",
       "    }\n",
       "\n",
       "    .dataframe thead th {\n",
       "        text-align: right;\n",
       "    }\n",
       "</style>\n",
       "<table border=\"1\" class=\"dataframe\">\n",
       "  <thead>\n",
       "    <tr style=\"text-align: right;\">\n",
       "      <th></th>\n",
       "      <th>Hold ID?</th>\n",
       "      <th>X-loc</th>\n",
       "      <th>Y-loc</th>\n",
       "      <th>spot-pos</th>\n",
       "      <th>Hold type</th>\n",
       "      <th>Hold color</th>\n",
       "      <th>[List of] routes</th>\n",
       "    </tr>\n",
       "  </thead>\n",
       "  <tbody>\n",
       "  </tbody>\n",
       "</table>\n",
       "</div>"
      ],
      "text/plain": [
       "Empty DataFrame\n",
       "Columns: [Hold ID?, X-loc, Y-loc, spot-pos, Hold type , Hold color, [List of] routes]\n",
       "Index: []"
      ]
     },
     "execution_count": 3,
     "metadata": {},
     "output_type": "execute_result"
    }
   ],
   "source": [
    "# in this first csv we have the holds themselves and their characteristics \n",
    "# namely color and type\n",
    "holds = pd.read_csv(\"holds.csv\")\n",
    "\n",
    "holds.head()\n",
    "\n",
    "\n",
    "# we will have to double check entries for both spots, and routes"
   ]
  },
  {
   "cell_type": "code",
   "execution_count": 5,
   "id": "1dce0c0a",
   "metadata": {},
   "outputs": [
    {
     "data": {
      "text/html": [
       "<div>\n",
       "<style scoped>\n",
       "    .dataframe tbody tr th:only-of-type {\n",
       "        vertical-align: middle;\n",
       "    }\n",
       "\n",
       "    .dataframe tbody tr th {\n",
       "        vertical-align: top;\n",
       "    }\n",
       "\n",
       "    .dataframe thead th {\n",
       "        text-align: right;\n",
       "    }\n",
       "</style>\n",
       "<table border=\"1\" class=\"dataframe\">\n",
       "  <thead>\n",
       "    <tr style=\"text-align: right;\">\n",
       "      <th></th>\n",
       "      <th>Num of list_</th>\n",
       "      <th>Holds 1</th>\n",
       "      <th>Holds 2</th>\n",
       "      <th>Holds 3</th>\n",
       "      <th>Holds 4</th>\n",
       "      <th>Holds 5</th>\n",
       "      <th>Holds 6</th>\n",
       "      <th>Holds 7</th>\n",
       "      <th>Holds 8</th>\n",
       "      <th>Spots 1</th>\n",
       "      <th>Spots 2</th>\n",
       "      <th>Spots 3</th>\n",
       "      <th>Spots 4</th>\n",
       "      <th>Spots 5</th>\n",
       "      <th>Spots 6</th>\n",
       "      <th>Spots 7</th>\n",
       "      <th>Spots 8</th>\n",
       "    </tr>\n",
       "  </thead>\n",
       "  <tbody>\n",
       "    <tr>\n",
       "      <th>0</th>\n",
       "      <td>1</td>\n",
       "      <td>2</td>\n",
       "      <td>2</td>\n",
       "      <td>4</td>\n",
       "      <td>4</td>\n",
       "      <td>1</td>\n",
       "      <td>2</td>\n",
       "      <td>3</td>\n",
       "      <td>1</td>\n",
       "      <td>14.0</td>\n",
       "      <td>15.0</td>\n",
       "      <td>13.0</td>\n",
       "      <td>13.0</td>\n",
       "      <td>14.0</td>\n",
       "      <td>16.0</td>\n",
       "      <td>12.0</td>\n",
       "      <td>10.0</td>\n",
       "    </tr>\n",
       "    <tr>\n",
       "      <th>1</th>\n",
       "      <td>2</td>\n",
       "      <td>2</td>\n",
       "      <td>3</td>\n",
       "      <td>4</td>\n",
       "      <td>5</td>\n",
       "      <td>7</td>\n",
       "      <td>4</td>\n",
       "      <td>2</td>\n",
       "      <td>3</td>\n",
       "      <td>11.0</td>\n",
       "      <td>12.0</td>\n",
       "      <td>13.0</td>\n",
       "      <td>14.0</td>\n",
       "      <td>15.0</td>\n",
       "      <td>13.0</td>\n",
       "      <td>15.0</td>\n",
       "      <td>14.0</td>\n",
       "    </tr>\n",
       "    <tr>\n",
       "      <th>2</th>\n",
       "      <td>3</td>\n",
       "      <td>2</td>\n",
       "      <td>3</td>\n",
       "      <td>10</td>\n",
       "      <td>4</td>\n",
       "      <td>5</td>\n",
       "      <td>4</td>\n",
       "      <td>3</td>\n",
       "      <td>2</td>\n",
       "      <td>NaN</td>\n",
       "      <td>NaN</td>\n",
       "      <td>NaN</td>\n",
       "      <td>NaN</td>\n",
       "      <td>NaN</td>\n",
       "      <td>NaN</td>\n",
       "      <td>NaN</td>\n",
       "      <td>NaN</td>\n",
       "    </tr>\n",
       "    <tr>\n",
       "      <th>3</th>\n",
       "      <td>4</td>\n",
       "      <td>3</td>\n",
       "      <td>7</td>\n",
       "      <td>8</td>\n",
       "      <td>7</td>\n",
       "      <td>5</td>\n",
       "      <td>5</td>\n",
       "      <td>3</td>\n",
       "      <td>4</td>\n",
       "      <td>NaN</td>\n",
       "      <td>NaN</td>\n",
       "      <td>NaN</td>\n",
       "      <td>NaN</td>\n",
       "      <td>NaN</td>\n",
       "      <td>NaN</td>\n",
       "      <td>NaN</td>\n",
       "      <td>NaN</td>\n",
       "    </tr>\n",
       "    <tr>\n",
       "      <th>4</th>\n",
       "      <td>5</td>\n",
       "      <td>5</td>\n",
       "      <td>6</td>\n",
       "      <td>9</td>\n",
       "      <td>7</td>\n",
       "      <td>6</td>\n",
       "      <td>9</td>\n",
       "      <td>7</td>\n",
       "      <td>5</td>\n",
       "      <td>NaN</td>\n",
       "      <td>NaN</td>\n",
       "      <td>NaN</td>\n",
       "      <td>NaN</td>\n",
       "      <td>NaN</td>\n",
       "      <td>NaN</td>\n",
       "      <td>NaN</td>\n",
       "      <td>NaN</td>\n",
       "    </tr>\n",
       "  </tbody>\n",
       "</table>\n",
       "</div>"
      ],
      "text/plain": [
       "   Num of list_  Holds 1  Holds 2  Holds 3  Holds 4  Holds 5  Holds 6  \\\n",
       "0             1        2        2        4        4        1        2   \n",
       "1             2        2        3        4        5        7        4   \n",
       "2             3        2        3       10        4        5        4   \n",
       "3             4        3        7        8        7        5        5   \n",
       "4             5        5        6        9        7        6        9   \n",
       "\n",
       "   Holds 7  Holds 8  Spots 1  Spots 2  Spots 3  Spots 4  Spots 5  Spots 6  \\\n",
       "0        3        1     14.0     15.0     13.0     13.0     14.0     16.0   \n",
       "1        2        3     11.0     12.0     13.0     14.0     15.0     13.0   \n",
       "2        3        2      NaN      NaN      NaN      NaN      NaN      NaN   \n",
       "3        3        4      NaN      NaN      NaN      NaN      NaN      NaN   \n",
       "4        7        5      NaN      NaN      NaN      NaN      NaN      NaN   \n",
       "\n",
       "   Spots 7  Spots 8  \n",
       "0     12.0     10.0  \n",
       "1     15.0     14.0  \n",
       "2      NaN      NaN  \n",
       "3      NaN      NaN  \n",
       "4      NaN      NaN  "
      ]
     },
     "execution_count": 5,
     "metadata": {},
     "output_type": "execute_result"
    }
   ],
   "source": [
    "sp_holds = pd.read_csv(\"Spots + Holds.csv\")\n",
    "\n",
    "sp_holds.head()"
   ]
  },
  {
   "cell_type": "code",
   "execution_count": null,
   "id": "8cfb4a97",
   "metadata": {},
   "outputs": [],
   "source": [
    "df.shape"
   ]
  },
  {
   "cell_type": "code",
   "execution_count": null,
   "id": "eab99dc5",
   "metadata": {},
   "outputs": [],
   "source": [
    "df.dtypes"
   ]
  },
  {
   "cell_type": "code",
   "execution_count": null,
   "id": "c0ee9bb7",
   "metadata": {},
   "outputs": [],
   "source": [
    "df.describe()"
   ]
  },
  {
   "cell_type": "code",
   "execution_count": null,
   "id": "f1fdedcf",
   "metadata": {},
   "outputs": [],
   "source": [
    "df.value_counts(\"chest_pain\")"
   ]
  },
  {
   "cell_type": "code",
   "execution_count": null,
   "id": "ec6812f2",
   "metadata": {},
   "outputs": [],
   "source": [
    "df.value_counts(\"rest_ecg\")"
   ]
  },
  {
   "cell_type": "code",
   "execution_count": null,
   "id": "42d17614",
   "metadata": {},
   "outputs": [],
   "source": [
    "df.value_counts(\"heart_disease\")"
   ]
  },
  {
   "cell_type": "code",
   "execution_count": null,
   "id": "a512aa69",
   "metadata": {},
   "outputs": [],
   "source": [
    "sns.pairplot(data=df[['chest_pain', 'age', 'rest_bps', 'cholesterol', 'maximum_heart_rate', 'vessels']], hue=\"chest_pain\")"
   ]
  },
  {
   "cell_type": "code",
   "execution_count": null,
   "id": "b20133b7",
   "metadata": {},
   "outputs": [],
   "source": [
    "sns.pairplot(data=df[['rest_ecg', 'age', 'rest_bps', 'cholesterol', 'maximum_heart_rate', 'vessels']], \n",
    "             hue=\"rest_ecg\"\n",
    "             # markers=True,\n",
    "             # corner=True\n",
    ")"
   ]
  },
  {
   "cell_type": "code",
   "execution_count": null,
   "id": "9175fe7c",
   "metadata": {},
   "outputs": [],
   "source": [
    "sns.pairplot(data=df[['heart_disease', 'age', 'rest_bps', 'cholesterol', 'maximum_heart_rate', 'vessels']], hue=\"heart_disease\")"
   ]
  },
  {
   "cell_type": "code",
   "execution_count": null,
   "id": "78921822-ddf9-4592-9ac1-ec08e8f17140",
   "metadata": {},
   "outputs": [],
   "source": [
    "from sklearn.preprocessing import StandardScaler"
   ]
  },
  {
   "cell_type": "code",
   "execution_count": null,
   "id": "abee1707-4273-49a2-aff2-f9f4bf828e43",
   "metadata": {},
   "outputs": [],
   "source": [
    "features = [\n",
    "    'age',\n",
    "    'rest_bps',\n",
    "    'cholesterol',\n",
    "    'maximum_heart_rate',\n",
    "    'vessels'\n",
    "]\n",
    "\n",
    "df = df.dropna(subset=features).reset_index()"
   ]
  },
  {
   "cell_type": "code",
   "execution_count": null,
   "id": "6fb39d5e-78cd-44e8-843e-520c042fcc72",
   "metadata": {},
   "outputs": [],
   "source": [
    "x = df.loc[:, features].values\n",
    "x"
   ]
  },
  {
   "cell_type": "code",
   "execution_count": null,
   "id": "dde7faef-9bff-493e-a587-4c15b94558a2",
   "metadata": {},
   "outputs": [],
   "source": [
    "x = StandardScaler().fit_transform(x)\n",
    "x"
   ]
  },
  {
   "cell_type": "code",
   "execution_count": null,
   "id": "d8d27cfa-688d-4ac6-9689-7e599307b5f9",
   "metadata": {},
   "outputs": [],
   "source": [
    "from sklearn.cluster import KMeans"
   ]
  },
  {
   "cell_type": "code",
   "execution_count": null,
   "id": "1ebb2019-d684-431c-9ec1-4dfb0afac969",
   "metadata": {},
   "outputs": [],
   "source": [
    "km = KMeans(\n",
    "    n_clusters = 2\n",
    ")\n",
    "\n",
    "result = km.fit(x)"
   ]
  },
  {
   "cell_type": "code",
   "execution_count": null,
   "id": "117853f9-e3be-4feb-875f-c7efc4b93ff0",
   "metadata": {},
   "outputs": [],
   "source": [
    "result.cluster_centers_"
   ]
  },
  {
   "cell_type": "code",
   "execution_count": null,
   "id": "66137a12-08e6-43f5-97d5-d7dee47fc043",
   "metadata": {},
   "outputs": [],
   "source": [
    "result.labels_"
   ]
  },
  {
   "cell_type": "code",
   "execution_count": null,
   "id": "a8f3ee33-fddb-4f05-ae1e-09bb3ca31ca9",
   "metadata": {},
   "outputs": [],
   "source": [
    "df['cluster'] = pd.Series(result.labels_)"
   ]
  },
  {
   "cell_type": "code",
   "execution_count": null,
   "id": "f68e8b9a-c809-4aee-b8c9-a614b3797001",
   "metadata": {},
   "outputs": [],
   "source": [
    "df.sample(10).sort_values(['heart_disease'])[['heart_disease', 'cluster']]"
   ]
  },
  {
   "cell_type": "code",
   "execution_count": null,
   "id": "73364b66-ff6d-4dcb-a9c3-adeb60f2aea2",
   "metadata": {},
   "outputs": [],
   "source": [
    "df[ df['heart_disease'] == True]['cluster'].value_counts()"
   ]
  },
  {
   "cell_type": "code",
   "execution_count": null,
   "id": "2c6a0be8-ccae-4cd4-b588-f57edde32a5d",
   "metadata": {},
   "outputs": [],
   "source": [
    "df[ df['heart_disease'] == False]['cluster'].value_counts()"
   ]
  },
  {
   "cell_type": "code",
   "execution_count": null,
   "id": "e61fe490-dbfa-48c5-88c9-410638a8226e",
   "metadata": {},
   "outputs": [],
   "source": [
    "df.groupby(['heart_disease', 'cluster']).size()"
   ]
  },
  {
   "cell_type": "code",
   "execution_count": null,
   "id": "f83dd1c1-0572-4a45-87f2-39bf41479bfb",
   "metadata": {},
   "outputs": [],
   "source": [
    "def map_species(x):\n",
    "    m = [True, False]\n",
    "    return m[x]"
   ]
  },
  {
   "cell_type": "code",
   "execution_count": null,
   "id": "07b40afc-4286-4bd6-8045-b84c879e0b95",
   "metadata": {},
   "outputs": [],
   "source": [
    "df['prediction'] = df['cluster'].apply(map_species)\n",
    "# del df['cluster_bool_values']"
   ]
  },
  {
   "cell_type": "code",
   "execution_count": null,
   "id": "be104a6e-b874-4b68-ad92-eee0454183cc",
   "metadata": {},
   "outputs": [],
   "source": [
    "df.head()"
   ]
  },
  {
   "cell_type": "code",
   "execution_count": null,
   "id": "12df4cd7-a259-4ad9-8cb8-7f98a903ff21",
   "metadata": {},
   "outputs": [],
   "source": [
    "from sklearn.metrics import confusion_matrix"
   ]
  },
  {
   "cell_type": "code",
   "execution_count": null,
   "id": "46198de3-ed01-4583-8cf2-07d1eb49becb",
   "metadata": {},
   "outputs": [],
   "source": [
    "y_true = df['heart_disease'].values\n",
    "y_predict = df['prediction'].values\n",
    "y_labels=df['heart_disease'].unique()"
   ]
  },
  {
   "cell_type": "code",
   "execution_count": null,
   "id": "6f7216bc-3af6-446e-a9c9-2df14a0f0db7",
   "metadata": {},
   "outputs": [],
   "source": [
    "data = confusion_matrix(y_true, y_predict, labels=y_labels)\n",
    "data"
   ]
  },
  {
   "cell_type": "code",
   "execution_count": null,
   "id": "ab7e7f92-c315-4718-b448-d8a9c817e9ed",
   "metadata": {},
   "outputs": [],
   "source": [
    "fig, ax = plt.subplots(figsize=(15, 7))\n",
    "\n",
    "heatmap = sns.heatmap(\n",
    "    pd.DataFrame(data, columns=y_labels, index=y_labels), \n",
    "    annot=True, \n",
    "    fmt=\"d\", \n",
    "    annot_kws={\"size\":13},\n",
    "    cmap=\"Spectral\"\n",
    ")"
   ]
  },
  {
   "cell_type": "code",
   "execution_count": null,
   "id": "f33758f3-1227-4a51-bd02-906bcbf94b00",
   "metadata": {},
   "outputs": [],
   "source": [
    "pca = PCA(\n",
    "    n_components=2\n",
    ")\n",
    "\n",
    "principal_components = pca.fit_transform(x)"
   ]
  },
  {
   "cell_type": "code",
   "execution_count": null,
   "id": "35f1116e-2564-460a-9f9d-a805d9e47114",
   "metadata": {},
   "outputs": [],
   "source": [
    "pcadf = pd.DataFrame(data= principal_components,\n",
    "                       columns=[\"PCA 1\", \"PCA 2\"])\n",
    "\n",
    "pcadf['heart_disease'] = df['heart_disease']\n",
    "pcadf['cluster'] = df['prediction']"
   ]
  },
  {
   "cell_type": "code",
   "execution_count": null,
   "id": "a84dcfb0-bc38-4546-977b-72401631ad33",
   "metadata": {},
   "outputs": [],
   "source": [
    "pcadf.sample(5)"
   ]
  },
  {
   "cell_type": "code",
   "execution_count": null,
   "id": "ad3e2a43-1fa2-45d6-8734-fea77487c7a0",
   "metadata": {},
   "outputs": [],
   "source": [
    "pca = PCA(n_components=2).fit(x)"
   ]
  },
  {
   "cell_type": "code",
   "execution_count": null,
   "id": "bb913d06-cdd7-4e08-8325-a9d510b00b1c",
   "metadata": {},
   "outputs": [],
   "source": [
    "# get back the variance of each component\n",
    "variance = pca.explained_variance_\n",
    "variance"
   ]
  },
  {
   "cell_type": "code",
   "execution_count": null,
   "id": "162b29f7-7676-43fe-a8cd-cf700fdf9fd5",
   "metadata": {
    "jupyter": {
     "outputs_hidden": true
    },
    "tags": []
   },
   "outputs": [],
   "source": [
    "# rotate input features into PCA-1/PCA-2 space\n",
    "rotated = pca.transform(x)\n",
    "rotated"
   ]
  },
  {
   "cell_type": "code",
   "execution_count": null,
   "id": "4d885960-f453-4030-b2ef-972205d41477",
   "metadata": {},
   "outputs": [],
   "source": [
    "bar = sns.catplot(\n",
    "    data=pcadf, \n",
    "    x=\"PCA 1\", \n",
    "    y=\"PCA 2\",\n",
    "    kind=\"bar\", \n",
    "    aspect=1.5,\n",
    "    hue=\"heart_disease\"\n",
    ").set(title=\"Heart Disease Bar Chart\")"
   ]
  },
  {
   "cell_type": "code",
   "execution_count": null,
   "id": "b957d7af-1484-4608-a0db-4f2489d29b83",
   "metadata": {
    "tags": []
   },
   "outputs": [],
   "source": [
    "sns.barplot(data=pcadf, x=\"PCA 1\", y=\"PCA 2\", hue=\"heart_disease\").set(title=\"Heart Disease Bar Chart\")"
   ]
  }
 ],
 "metadata": {
  "kernelspec": {
   "display_name": "Python 3 (ipykernel)",
   "language": "python",
   "name": "python3"
  },
  "language_info": {
   "codemirror_mode": {
    "name": "ipython",
    "version": 3
   },
   "file_extension": ".py",
   "mimetype": "text/x-python",
   "name": "python",
   "nbconvert_exporter": "python",
   "pygments_lexer": "ipython3",
   "version": "3.9.12"
  },
  "vscode": {
   "interpreter": {
    "hash": "d8fb72f46f6ea80e8c0c2005e92b64448aa7b8983ba782e4675c0b1f3954dabb"
   }
  }
 },
 "nbformat": 4,
 "nbformat_minor": 5
}
