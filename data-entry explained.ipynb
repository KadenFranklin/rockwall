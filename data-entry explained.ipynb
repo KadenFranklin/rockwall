{
 "cells": [
  {
   "cell_type": "code",
   "execution_count": null,
   "metadata": {
    "execution": {
     "iopub.execute_input": "2022-08-30T17:51:27.830650Z",
     "iopub.status.busy": "2022-08-30T17:51:27.829906Z",
     "iopub.status.idle": "2022-08-30T17:51:27.857403Z",
     "shell.execute_reply": "2022-08-30T17:51:27.856280Z",
     "shell.execute_reply.started": "2022-08-30T17:51:27.830563Z"
    }
   },
   "outputs": [],
   "source": [
    "import pandas as pd"
   ]
  },
  {
   "cell_type": "markdown",
   "metadata": {},
   "source": [
    "In this notebook I will explain the methods I use to map the existing sections of the wall into a digital form and seed the database for :"
   ]
  },
  {
   "cell_type": "code",
   "execution_count": null,
   "metadata": {
    "execution": {
     "iopub.execute_input": "2022-08-30T17:51:27.860617Z",
     "iopub.status.busy": "2022-08-30T17:51:27.860201Z",
     "iopub.status.idle": "2022-08-30T17:51:27.896910Z",
     "shell.execute_reply": "2022-08-30T17:51:27.896121Z",
     "shell.execute_reply.started": "2022-08-30T17:51:27.860584Z"
    }
   },
   "outputs": [],
   "source": [
    "df = pd.read_csv(r\"data\")\n",
    "print(df)"
   ]
  },
  {
   "cell_type": "code",
   "execution_count": null,
   "metadata": {
    "execution": {
     "iopub.execute_input": "2022-08-30T17:51:27.898771Z",
     "iopub.status.busy": "2022-08-30T17:51:27.898333Z",
     "iopub.status.idle": "2022-08-30T17:51:27.903628Z",
     "shell.execute_reply": "2022-08-30T17:51:27.902922Z",
     "shell.execute_reply.started": "2022-08-30T17:51:27.898746Z"
    }
   },
   "outputs": [],
   "source": [
    "print(df.dtypes)"
   ]
  },
  {
   "cell_type": "code",
   "execution_count": null,
   "metadata": {
    "execution": {
     "iopub.execute_input": "2022-08-30T17:51:27.906494Z",
     "iopub.status.busy": "2022-08-30T17:51:27.905829Z",
     "iopub.status.idle": "2022-08-30T17:51:27.927680Z",
     "shell.execute_reply": "2022-08-30T17:51:27.926669Z",
     "shell.execute_reply.started": "2022-08-30T17:51:27.906429Z"
    }
   },
   "outputs": [],
   "source": [
    "df.tail()"
   ]
  },
  {
   "cell_type": "code",
   "execution_count": null,
   "metadata": {
    "execution": {
     "iopub.execute_input": "2022-08-30T18:26:02.119326Z",
     "iopub.status.busy": "2022-08-30T18:26:02.118941Z",
     "iopub.status.idle": "2022-08-30T18:26:02.124559Z",
     "shell.execute_reply": "2022-08-30T18:26:02.123590Z",
     "shell.execute_reply.started": "2022-08-30T18:26:02.119293Z"
    }
   },
   "outputs": [],
   "source": [
    "df.columns = [x.lower() for x in df.columns]"
   ]
  },
  {
   "cell_type": "code",
   "execution_count": null,
   "metadata": {
    "scrolled": true
   },
   "outputs": [],
   "source": [
    "df"
   ]
  },
  {
   "cell_type": "code",
   "execution_count": null,
   "metadata": {},
   "outputs": [],
   "source": [
    "i = -1\n",
    "for x in df.duplicated():\n",
    "    i += 1\n",
    "    if x == True:\n",
    "        print(x)\n",
    "        print(i)\n"
   ]
  },
  {
   "cell_type": "code",
   "execution_count": null,
   "metadata": {},
   "outputs": [],
   "source": [
    "df = df.drop([2006, 2002, 1205, 1199])"
   ]
  },
  {
   "cell_type": "code",
   "execution_count": null,
   "metadata": {},
   "outputs": [],
   "source": [
    "i = -1\n",
    "for x in df.duplicated():\n",
    "    i += 1\n",
    "    if x == True:\n",
    "        print(x)\n",
    "        print(i)"
   ]
  },
  {
   "cell_type": "code",
   "execution_count": null,
   "metadata": {
    "scrolled": true
   },
   "outputs": [],
   "source": [
    "df.nunique()"
   ]
  },
  {
   "cell_type": "code",
   "execution_count": null,
   "metadata": {},
   "outputs": [],
   "source": [
    "df.describe()"
   ]
  },
  {
   "cell_type": "code",
   "execution_count": null,
   "metadata": {},
   "outputs": [],
   "source": [
    "df.loc[df['age'].idxmax()]"
   ]
  },
  {
   "cell_type": "code",
   "execution_count": null,
   "metadata": {},
   "outputs": [],
   "source": [
    "df.loc[df['age'].idxmin()]"
   ]
  },
  {
   "cell_type": "code",
   "execution_count": null,
   "metadata": {
    "scrolled": true
   },
   "outputs": [],
   "source": [
    "df['year'].value_counts()"
   ]
  },
  {
   "cell_type": "code",
   "execution_count": null,
   "metadata": {},
   "outputs": [],
   "source": [
    "new_df = df[['fishid','lake']].copy()\n",
    "new_df"
   ]
  },
  {
   "cell_type": "code",
   "execution_count": null,
   "metadata": {},
   "outputs": [],
   "source": [
    "new_df.drop_duplicates(subset = [\"fishid\"], inplace =True)"
   ]
  },
  {
   "cell_type": "code",
   "execution_count": null,
   "metadata": {},
   "outputs": [],
   "source": [
    "new_df"
   ]
  },
  {
   "cell_type": "code",
   "execution_count": null,
   "metadata": {},
   "outputs": [],
   "source": [
    "new_df = new_df.groupby('lake').count()\n",
    "new_df"
   ]
  },
  {
   "cell_type": "code",
   "execution_count": null,
   "metadata": {
    "scrolled": true
   },
   "outputs": [],
   "source": [
    "new_df.rename(columns={\"fishid\": \"fish_count\"})"
   ]
  },
  {
   "cell_type": "markdown",
   "metadata": {},
   "source": [
    "## 5 Save the resulting dataframe to a CSV file."
   ]
  },
  {
   "cell_type": "code",
   "execution_count": null,
   "metadata": {},
   "outputs": [],
   "source": [
    "new_df.to_csv(\"final_data.csv\")"
   ]
  }
 ],
 "metadata": {
  "kernelspec": {
   "display_name": "Python 3 (ipykernel)",
   "language": "python",
   "name": "python3"
  },
  "language_info": {
   "codemirror_mode": {
    "name": "ipython",
    "version": 3
   },
   "file_extension": ".py",
   "mimetype": "text/x-python",
   "name": "python",
   "nbconvert_exporter": "python",
   "pygments_lexer": "ipython3",
   "version": "3.9.12"
  }
 },
 "nbformat": 4,
 "nbformat_minor": 4
}
